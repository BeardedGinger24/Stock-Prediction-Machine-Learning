{
  "nbformat": 4,
  "nbformat_minor": 0,
  "metadata": {
    "colab": {
      "name": "StockPriceForecasting.ipynb",
      "provenance": []
    },
    "kernelspec": {
      "name": "python3",
      "display_name": "Python 3"
    },
    "language_info": {
      "name": "python"
    }
  },
  "cells": [
    {
      "cell_type": "code",
      "metadata": {
        "colab": {
          "base_uri": "https://localhost:8080/"
        },
        "id": "1LIFlAF7Mh7-",
        "outputId": "0dbf91a2-3355-4bea-9b0b-aa1cee7a86a5"
      },
      "source": [
        "%cd drive/MyDrive/Colab\\ Notebooks"
      ],
      "execution_count": 1,
      "outputs": [
        {
          "output_type": "stream",
          "text": [
            "/content/drive/MyDrive/Colab Notebooks\n"
          ],
          "name": "stdout"
        }
      ]
    },
    {
      "cell_type": "code",
      "metadata": {
        "id": "RxjsaYss06Od"
      },
      "source": [
        "import numpy as np\n",
        "import pandas as pd\n",
        "import matplotlib.pyplot as plt"
      ],
      "execution_count": 6,
      "outputs": []
    },
    {
      "cell_type": "code",
      "metadata": {
        "colab": {
          "base_uri": "https://localhost:8080/"
        },
        "id": "oIehm6MRMax0",
        "outputId": "91853884-ea21-4beb-f6e4-1f66075f6643"
      },
      "source": [
        "raw_df = pd.read_csv('AAPL.csv')\n",
        "#raw_df.rename(columns={'Close': 'Closing Price', 'Adj Close': 'Adj Closing Price'}, inplace=True)\n",
        "raw_df['Date'] = raw_df['Date'].apply(pd.to_datetime)\n",
        "raw_df.set_index('Date',inplace=True)\n",
        "raw_df.info()"
      ],
      "execution_count": 113,
      "outputs": [
        {
          "output_type": "stream",
          "text": [
            "<class 'pandas.core.frame.DataFrame'>\n",
            "DatetimeIndex: 1259 entries, 2016-04-25 to 2021-04-23\n",
            "Data columns (total 6 columns):\n",
            " #   Column     Non-Null Count  Dtype  \n",
            "---  ------     --------------  -----  \n",
            " 0   Open       1259 non-null   float64\n",
            " 1   High       1259 non-null   float64\n",
            " 2   Low        1259 non-null   float64\n",
            " 3   Close      1259 non-null   float64\n",
            " 4   Adj Close  1259 non-null   float64\n",
            " 5   Volume     1259 non-null   int64  \n",
            "dtypes: float64(5), int64(1)\n",
            "memory usage: 68.9 KB\n"
          ],
          "name": "stdout"
        }
      ]
    },
    {
      "cell_type": "markdown",
      "metadata": {
        "id": "uYbzTKbwNNnZ"
      },
      "source": [
        "## Create a Univariate dataset(Closing price and time)"
      ]
    },
    {
      "cell_type": "code",
      "metadata": {
        "colab": {
          "base_uri": "https://localhost:8080/"
        },
        "id": "-tKMQMvrNcNU",
        "outputId": "0d184460-8534-4ba0-fbca-24524ce8fae5"
      },
      "source": [
        "X_uni = raw_df['Close']\n",
        "X_uni.tail(30)"
      ],
      "execution_count": 114,
      "outputs": [
        {
          "output_type": "execute_result",
          "data": {
            "text/plain": [
              "Date\n",
              "2021-03-12    121.029999\n",
              "2021-03-15    123.989998\n",
              "2021-03-16    125.570000\n",
              "2021-03-17    124.760002\n",
              "2021-03-18    120.529999\n",
              "2021-03-19    119.989998\n",
              "2021-03-22    123.389999\n",
              "2021-03-23    122.540001\n",
              "2021-03-24    120.089996\n",
              "2021-03-25    120.589996\n",
              "2021-03-26    121.209999\n",
              "2021-03-29    121.389999\n",
              "2021-03-30    119.900002\n",
              "2021-03-31    122.150002\n",
              "2021-04-01    123.000000\n",
              "2021-04-05    125.900002\n",
              "2021-04-06    126.209999\n",
              "2021-04-07    127.900002\n",
              "2021-04-08    130.360001\n",
              "2021-04-09    133.000000\n",
              "2021-04-12    131.240005\n",
              "2021-04-13    134.429993\n",
              "2021-04-14    132.029999\n",
              "2021-04-15    134.500000\n",
              "2021-04-16    134.160004\n",
              "2021-04-19    134.839996\n",
              "2021-04-20    133.110001\n",
              "2021-04-21    133.500000\n",
              "2021-04-22    131.940002\n",
              "2021-04-23    134.320007\n",
              "Name: Close, dtype: float64"
            ]
          },
          "metadata": {
            "tags": []
          },
          "execution_count": 114
        }
      ]
    },
    {
      "cell_type": "code",
      "metadata": {
        "colab": {
          "base_uri": "https://localhost:8080/",
          "height": 286
        },
        "id": "EYDtLDc6OQMM",
        "outputId": "e3319c98-88c0-448f-d1b7-99b967a61b95"
      },
      "source": [
        "%matplotlib inline\n",
        "\n",
        "X_uni.plot()\n",
        "#X_uni.tail(60).plot()\n",
        "plt.xlabel('Date')\n",
        "plt.ylabel('Closing Prices')"
      ],
      "execution_count": 115,
      "outputs": [
        {
          "output_type": "execute_result",
          "data": {
            "text/plain": [
              "Text(0, 0.5, 'Closing Prices')"
            ]
          },
          "metadata": {
            "tags": []
          },
          "execution_count": 115
        },
        {
          "output_type": "display_data",
          "data": {
            "image/png": "[encoded data removed]",
            "text/plain": [
              "<Figure size 432x288 with 1 Axes>"
            ]
          },
          "metadata": {
            "tags": [],
            "needs_background": "light"
          }
        }
      ]
    },
    {
      "cell_type": "markdown",
      "metadata": {
        "id": "oSuJBDPmWg9R"
      },
      "source": [
        "## Split into training and testing"
      ]
    },
    {
      "cell_type": "code",
      "metadata": {
        "colab": {
          "base_uri": "https://localhost:8080/"
        },
        "id": "MVaZrJOzTuFe",
        "outputId": "748193b6-8f22-49a4-b5b7-1a29124c9bc6"
      },
      "source": [
        "forecast_length = 30\n",
        "X_uni_train = X_uni[:-forecast_length]\n",
        "X_uni_test = X_uni[-forecast_length:]\n",
        "\n",
        "print(X_uni_train.head())\n",
        "print(X_uni_test.head())"
      ],
      "execution_count": 116,
      "outputs": [
        {
          "output_type": "stream",
          "text": [
            "Date\n",
            "2016-04-25    26.270000\n",
            "2016-04-26    26.087500\n",
            "2016-04-27    24.455000\n",
            "2016-04-28    23.707500\n",
            "2016-04-29    23.434999\n",
            "Name: Close, dtype: float64\n",
            "Date\n",
            "2021-03-12    121.029999\n",
            "2021-03-15    123.989998\n",
            "2021-03-16    125.570000\n",
            "2021-03-17    124.760002\n",
            "2021-03-18    120.529999\n",
            "Name: Close, dtype: float64\n"
          ],
          "name": "stdout"
        }
      ]
    },
    {
      "cell_type": "markdown",
      "metadata": {
        "id": "8pxVpABZtM0d"
      },
      "source": [
        "## Naive Forecast"
      ]
    },
    {
      "cell_type": "code",
      "metadata": {
        "id": "tKEV9kIlXe4w"
      },
      "source": [
        "naive_forecast = X_uni_test.copy()"
      ],
      "execution_count": 117,
      "outputs": []
    },
    {
      "cell_type": "code",
      "metadata": {
        "colab": {
          "base_uri": "https://localhost:8080/"
        },
        "id": "VQt4vfoDocP5",
        "outputId": "66463a9b-04ae-4f16-d1d2-04af8c53aa06"
      },
      "source": [
        "listof = X_uni[1228:1258].values\n",
        "to_rep = naive_forecast.values\n",
        "naive_forecast.replace(to_rep,listof,inplace=True)"
      ],
      "execution_count": 118,
      "outputs": [
        {
          "output_type": "stream",
          "text": [
            "[121.959999 121.029999 123.989998 125.57     124.760002 120.529999\n",
            " 119.989998 123.389999 122.540001 120.089996 120.589996 121.209999\n",
            " 121.389999 119.900002 122.150002 123.       125.900002 126.209999\n",
            " 127.900002 130.360001 133.       131.240005 134.429993 132.029999\n",
            " 134.5      134.160004 134.839996 133.110001 133.5      131.940002]\n"
          ],
          "name": "stdout"
        }
      ]
    },
    {
      "cell_type": "code",
      "metadata": {
        "colab": {
          "base_uri": "https://localhost:8080/"
        },
        "id": "pk6FdedeY8XV",
        "outputId": "f77ccd42-9553-4da5-fdd4-c55272e7d28d"
      },
      "source": [
        "naive_forecast.head()\n"
      ],
      "execution_count": 119,
      "outputs": [
        {
          "output_type": "execute_result",
          "data": {
            "text/plain": [
              "Date\n",
              "2021-03-12    121.959999\n",
              "2021-03-15    121.029999\n",
              "2021-03-16    123.989998\n",
              "2021-03-17    125.570000\n",
              "2021-03-18    124.760002\n",
              "Name: Close, dtype: float64"
            ]
          },
          "metadata": {
            "tags": []
          },
          "execution_count": 119
        }
      ]
    },
    {
      "cell_type": "code",
      "metadata": {
        "colab": {
          "base_uri": "https://localhost:8080/"
        },
        "id": "xT4Sx7VOkIex",
        "outputId": "0bd74652-47da-4abd-fe9e-03ddfc36eb00"
      },
      "source": [
        "X_uni_test.head()"
      ],
      "execution_count": 120,
      "outputs": [
        {
          "output_type": "execute_result",
          "data": {
            "text/plain": [
              "Date\n",
              "2021-03-12    121.029999\n",
              "2021-03-15    123.989998\n",
              "2021-03-16    125.570000\n",
              "2021-03-17    124.760002\n",
              "2021-03-18    120.529999\n",
              "Name: Close, dtype: float64"
            ]
          },
          "metadata": {
            "tags": []
          },
          "execution_count": 120
        }
      ]
    },
    {
      "cell_type": "code",
      "metadata": {
        "colab": {
          "base_uri": "https://localhost:8080/",
          "height": 302
        },
        "id": "i4XT1eftYiD5",
        "outputId": "d548e7bb-b32b-4f10-d739-a51f58ccdbbf"
      },
      "source": [
        "%matplotlib inline\n",
        "\n",
        "X_uni_test.plot(label='Actual')\n",
        "naive_forecast.plot(label='Prediction')\n",
        "#X_uni.tail(0).plot(label='Actual')\n",
        "#naive_forecast.tail(10).plot(label='Prediction')\n",
        "plt.xlabel('Date')\n",
        "plt.ylabel('Closing Prices')\n",
        "plt.legend()"
      ],
      "execution_count": 123,
      "outputs": [
        {
          "output_type": "execute_result",
          "data": {
            "text/plain": [
              "<matplotlib.legend.Legend at 0x7f6f47287550>"
            ]
          },
          "metadata": {
            "tags": []
          },
          "execution_count": 123
        },
        {
          "output_type": "display_data",
          "data": {
            "image/png": "[encoded data removed]",
            "text/plain": [
              "<Figure size 432x288 with 1 Axes>"
            ]
          },
          "metadata": {
            "tags": [],
            "needs_background": "light"
          }
        }
      ]
    },
    {
      "cell_type": "code",
      "metadata": {
        "colab": {
          "base_uri": "https://localhost:8080/"
        },
        "id": "51K1BBfSsum8",
        "outputId": "254a7c8b-fb4a-40fd-f34d-b6fadc2abcb3"
      },
      "source": [
        "errors = naive_forecast - X_uni_test\n",
        "abs_errors = np.abs(errors)\n",
        "mae = abs_errors.mean()\n",
        "print(mae)"
      ],
      "execution_count": 124,
      "outputs": [
        {
          "output_type": "stream",
          "text": [
            "1.6846655999999973\n"
          ],
          "name": "stdout"
        }
      ]
    },
    {
      "cell_type": "markdown",
      "metadata": {
        "id": "F3KGtsAHtQxz"
      },
      "source": [
        ""
      ]
    }
  ]
}