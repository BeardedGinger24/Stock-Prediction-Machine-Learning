{
 "cells": [
  {
   "cell_type": "code",
   "execution_count": 2,
   "metadata": {},
   "outputs": [],
   "source": [
    "from sec_edgar_downloader import Downloader"
   ]
  },
  {
   "cell_type": "markdown",
   "metadata": {},
   "source": []
  },
  {
   "cell_type": "code",
   "execution_count": 6,
   "metadata": {},
   "outputs": [],
   "source": [
    "dl = Downloader(\"data\")"
   ]
  },
  {
   "cell_type": "code",
   "execution_count": 98,
   "metadata": {},
   "outputs": [
    {
     "data": {
      "text/plain": [
       "68"
      ]
     },
     "execution_count": 98,
     "metadata": {},
     "output_type": "execute_result"
    }
   ],
   "source": [
    "dl.get(\"8-K\", \"TSLA\", after=\"2016-04-24\", before=\"2021-04-24\", query=\"99.1\")"
   ]
  },
  {
   "cell_type": "markdown",
   "metadata": {},
   "source": [
    "# Extract links from 8-k forms"
   ]
  },
  {
   "cell_type": "code",
   "execution_count": 85,
   "metadata": {},
   "outputs": [],
   "source": [
    "import os\n",
    "from bs4 import BeautifulSoup"
   ]
  },
  {
   "cell_type": "code",
   "execution_count": 99,
   "metadata": {},
   "outputs": [
    {
     "name": "stdout",
     "output_type": "stream",
     "text": [
      "['0000320193-19-000063', '0000320193-18-000067', '0000320193-18-000005', '0000320193-19-000007', '0000320193-21-000009', '0000320193-19-000117', '0001628280-17-000663', '0000320193-20-000060', '0000320193-20-000094', '0000320193-17-000006', '0001628280-16-020258', '0001628280-17-004663', '0000320193-20-000050', '0001193125-16-556520', '0001193125-18-154515', '0000320193-19-000002', '0000320193-18-000098', '0001628280-16-017762', '0001193125-20-039203', '0000320193-20-000008', '0000320193-18-000142', '0000320193-17-000067', '0000320193-19-000073']\n"
     ]
    }
   ],
   "source": [
    "ticker = \"AAPL\"\n",
    "current_directory = \"./data/sec-edgar-filings/\"+ticker+\"/8-K\"\n",
    "folders = os.listdir(current_directory)\n",
    "folders.remove('.DS_Store')\n",
    "print(folders)"
   ]
  },
  {
   "cell_type": "code",
   "execution_count": 124,
   "metadata": {},
   "outputs": [
    {
     "ename": "TypeError",
     "evalue": "'NoneType' object is not subscriptable",
     "output_type": "error",
     "traceback": [
      "\u001b[0;31m---------------------------------------------------------------------------\u001b[0m",
      "\u001b[0;31mTypeError\u001b[0m                                 Traceback (most recent call last)",
      "\u001b[0;32m<ipython-input-124-8b2529c073dc>\u001b[0m in \u001b[0;36m<module>\u001b[0;34m\u001b[0m\n\u001b[1;32m      9\u001b[0m             \u001b[0;31m#print( isinstance(soup.find(\"a\", href=True), type bs4.element.Tag))\u001b[0m\u001b[0;34m\u001b[0m\u001b[0;34m\u001b[0m\u001b[0;34m\u001b[0m\u001b[0m\n\u001b[1;32m     10\u001b[0m             \u001b[0;31m#print(type(soup.find(\"a\", href=True)) == <type 'bs4.element.Tag'>)\u001b[0m\u001b[0;34m\u001b[0m\u001b[0;34m\u001b[0m\u001b[0;34m\u001b[0m\u001b[0m\n\u001b[0;32m---> 11\u001b[0;31m             \u001b[0mexhibit_links\u001b[0m\u001b[0;34m.\u001b[0m\u001b[0mappend\u001b[0m\u001b[0;34m(\u001b[0m\u001b[0msoup\u001b[0m\u001b[0;34m.\u001b[0m\u001b[0mfind\u001b[0m\u001b[0;34m(\u001b[0m\u001b[0;34m\"a\"\u001b[0m\u001b[0;34m,\u001b[0m \u001b[0mhref\u001b[0m\u001b[0;34m=\u001b[0m\u001b[0;32mTrue\u001b[0m\u001b[0;34m)\u001b[0m\u001b[0;34m[\u001b[0m\u001b[0;34m\"href\"\u001b[0m\u001b[0;34m]\u001b[0m\u001b[0;34m)\u001b[0m\u001b[0;34m\u001b[0m\u001b[0;34m\u001b[0m\u001b[0m\n\u001b[0m\u001b[1;32m     12\u001b[0m \u001b[0mprint\u001b[0m\u001b[0;34m(\u001b[0m\u001b[0mexhibit_links\u001b[0m\u001b[0;34m)\u001b[0m\u001b[0;34m\u001b[0m\u001b[0;34m\u001b[0m\u001b[0m\n",
      "\u001b[0;31mTypeError\u001b[0m: 'NoneType' object is not subscriptable"
     ]
    }
   ],
   "source": [
    "exhibit_links = []\n",
    "for folder in folders:\n",
    "    subfolder = current_directory+\"/\"+folder\n",
    "    for file_name in os.listdir(subfolder):\n",
    "        if file_name == 'filing-details.html':\n",
    "            with open(subfolder+\"/\"+file_name) as fp:\n",
    "                soup = BeautifulSoup(fp, \"html.parser\")\n",
    "            \n",
    "            #print( isinstance(soup.find(\"a\", href=True), type bs4.element.Tag))\n",
    "            #print(type(soup.find(\"a\", href=True)) == <type 'bs4.element.Tag'>)\n",
    "            exhibit_links.append(soup.find(\"a\", href=True)[\"href\"])\n",
    "print(exhibit_links)"
   ]
  },
  {
   "cell_type": "code",
   "execution_count": 119,
   "metadata": {},
   "outputs": [],
   "source": [
    "import requests\n",
    "\n",
    "for url in exhibit_links:\n",
    "    exhibit_filename = url[-11:]+\"l\"\n",
    "    #print(exhibit_filename)\n",
    "    r = requests.get(url, allow_redirects=True)\n",
    "\n",
    "    open(exhibit_filename, 'wb').write(r.content)"
   ]
  },
  {
   "cell_type": "markdown",
   "metadata": {},
   "source": [
    "# Parse Exhibit 99.1 using BeautifulSoup"
   ]
  },
  {
   "cell_type": "code",
   "execution_count": null,
   "metadata": {},
   "outputs": [],
   "source": []
  },
  {
   "cell_type": "code",
   "execution_count": 91,
   "metadata": {},
   "outputs": [
    {
     "name": "stdout",
     "output_type": "stream",
     "text": [
      "2262020.html\n",
      "3202062.html\n",
      "9262020.html\n",
      "2202032.html\n"
     ]
    }
   ],
   "source": [
    "for file_name in os.listdir(\".\"):\n",
    "    if file_name.endswith(\".html\"):\n",
    "        with open(file_name, 'rb') as fp:\n",
    "            soup2 = BeautifulSoup(fp, \"html.parser\")\n",
    "        text = soup2.get_text()\n",
    "        trimmed_text = text[80:1000]\n",
    "        "
   ]
  },
  {
   "cell_type": "code",
   "execution_count": null,
   "metadata": {},
   "outputs": [],
   "source": []
  },
  {
   "cell_type": "code",
   "execution_count": 64,
   "metadata": {},
   "outputs": [
    {
     "data": {
      "text/plain": [
       "'https://www.sec.gov/Archives/edgar/data/0000320193/000032019320000050/a8-kexhibit991q2202032.htm'"
      ]
     },
     "execution_count": 64,
     "metadata": {},
     "output_type": "execute_result"
    }
   ],
   "source": []
  },
  {
   "cell_type": "code",
   "execution_count": 67,
   "metadata": {},
   "outputs": [],
   "source": [
    "with open(\"Exhibit.html\", 'rb') as fp:\n",
    "    soup2 = BeautifulSoup(fp, \"html.parser\")\n",
    "#soup2.find(\"body\")"
   ]
  },
  {
   "cell_type": "code",
   "execution_count": 73,
   "metadata": {},
   "outputs": [],
   "source": [
    "text = soup2.get_text()"
   ]
  },
  {
   "cell_type": "code",
   "execution_count": 82,
   "metadata": {},
   "outputs": [
    {
     "data": {
      "text/plain": [
       "'le Reports Second Quarter ResultsTotal Revenue Grows, Services Revenue Reaches New All-Time High of $13.3 BillionCUPERTINO, California — April 30, 2020 — Apple® today announced financial results for its fiscal 2020 second quarter ended March 28, 2020. The Company posted quarterly revenue of $58.3 billion, an increase of 1 percent from the year-ago quarter, and quarterly earnings per diluted share of $2.55, up 4 percent. International sales accounted for 62 percent of the quarter’s revenue.“Despite COVID-19’s unprecedented global impact, we’re proud to report that Apple grew for the quarter, driven by an all-time record in Services and a quarterly record for Wearables,” said Tim Cook, Apple’s CEO. “In this difficult environment, our users are depending on Apple products in renewed ways to stay connected, informed, creative, and productive. We feel motivated and inspired to not only keep meeting these needs i'"
      ]
     },
     "execution_count": 82,
     "metadata": {},
     "output_type": "execute_result"
    }
   ],
   "source": [
    "text[80:1000]"
   ]
  },
  {
   "cell_type": "code",
   "execution_count": 92,
   "metadata": {},
   "outputs": [
    {
     "name": "stdout",
     "output_type": "stream",
     "text": [
      "['le Reports Second Quarter ResultsTotal Revenue Grows, Services Revenue Reaches New All-Time High of $13.3 BillionCUPERTINO, California — April 30, 2020 — Apple® today announced financial results for its fiscal 2020 second quarter ended March 28, 2020.', 'The Company posted quarterly revenue of $58.3 billion, an increase of 1 percent from the year-ago quarter, and quarterly earnings per diluted share of $2.55, up 4 percent.', 'International sales accounted for 62 percent of the quarter’s revenue.“Despite COVID-19’s unprecedented global impact, we’re proud to report that Apple grew for the quarter, driven by an all-time record in Services and a quarterly record for Wearables,” said Tim Cook, Apple’s CEO.', '“In this difficult environment, our users are depending on Apple products in renewed ways to stay connected, informed, creative, and productive.', 'We feel motivated and inspired to not only keep meeting these needs i']\n"
     ]
    }
   ],
   "source": [
    "from nltk.tokenize import sent_tokenize\n",
    "text2 = \"le Reports Second Quarter ResultsTotal Revenue Grows, Services Revenue Reaches New All-Time High of $13.3 BillionCUPERTINO, California — April 30, 2020 — Apple® today announced financial results for its fiscal 2020 second quarter ended March 28, 2020. The Company posted quarterly revenue of $58.3 billion, an increase of 1 percent from the year-ago quarter, and quarterly earnings per diluted share of $2.55, up 4 percent. International sales accounted for 62 percent of the quarter’s revenue.“Despite COVID-19’s unprecedented global impact, we’re proud to report that Apple grew for the quarter, driven by an all-time record in Services and a quarterly record for Wearables,” said Tim Cook, Apple’s CEO. “In this difficult environment, our users are depending on Apple products in renewed ways to stay connected, informed, creative, and productive. We feel motivated and inspired to not only keep meeting these needs i\"\n",
    "print(sent_tokenize(text2))"
   ]
  },
  {
   "cell_type": "code",
   "execution_count": null,
   "metadata": {},
   "outputs": [],
   "source": []
  },
  {
   "cell_type": "code",
   "execution_count": null,
   "metadata": {},
   "outputs": [],
   "source": []
  },
  {
   "cell_type": "code",
   "execution_count": null,
   "metadata": {},
   "outputs": [],
   "source": []
  },
  {
   "cell_type": "code",
   "execution_count": null,
   "metadata": {},
   "outputs": [],
   "source": []
  }
 ],
 "metadata": {
  "kernelspec": {
   "display_name": "Python 3",
   "language": "python",
   "name": "python3"
  },
  "language_info": {
   "codemirror_mode": {
    "name": "ipython",
    "version": 3
   },
   "file_extension": ".py",
   "mimetype": "text/x-python",
   "name": "python",
   "nbconvert_exporter": "python",
   "pygments_lexer": "ipython3",
   "version": "3.8.3"
  }
 },
 "nbformat": 4,
 "nbformat_minor": 4
}
