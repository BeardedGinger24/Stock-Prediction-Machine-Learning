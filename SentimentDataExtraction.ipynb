{
 "cells": [
  {
   "cell_type": "code",
   "execution_count": null,
   "metadata": {},
   "outputs": [],
   "source": [
    "import requests\n",
    "import urllib\n",
    "from bs4 import BeautifulSoup"
   ]
  },
  {
   "cell_type": "markdown",
   "metadata": {},
   "source": []
  },
  {
   "cell_type": "code",
   "execution_count": null,
   "metadata": {},
   "outputs": [],
   "source": [
    "# define a base url, this would be the EDGAR data Archives\n",
    "base_url = r\"https://www.sec.gov/Archives/edgar/data\"\n",
    "\n",
    "# define a company to search (GOLDMAN SACHS), this requires a CIK number that is defined by the SEC.\n",
    "cik_num = '886982'\n",
    "\n",
    "# let's get all the filings for Goldman Sachs in a json format.\n",
    "# Alternative is .html & .xml\n",
    "filings_url = make_url(base_url, [cik_num, 'index.json'])\n",
    "\n",
    "# Get the filings and then decode it into a dictionary object.\n",
    "content = requests.get(filings_url)\n",
    "decoded_content = content.json()\n",
    "\n",
    "# Get a single filing number, this way we can request all the documents that were submitted.\n",
    "filing_number = decoded_content['directory']['item'][0]['name']\n",
    "\n",
    "# define the filing url, again I want all the data back as JSON.\n",
    "filing_url = make_url(base_url, [cik_num, filing_number, 'index.json'])\n",
    "\n",
    "# Get the documents submitted for that filing.\n",
    "content = requests.get(filing_url)\n",
    "document_content = content.json()\n",
    "\n",
    "# get a document name\n",
    "for document in document_content['directory']['item']:\n",
    "    if document['type'] != 'image2.gif':\n",
    "        document_name = document['name']\n",
    "        filing_url = make_url(base_url, [cik_num, filing_number, document_name])\n",
    "        print(filing_url)"
   ]
  }
 ],
 "metadata": {
  "kernelspec": {
   "display_name": "Python 3",
   "language": "python",
   "name": "python3"
  },
  "language_info": {
   "codemirror_mode": {
    "name": "ipython",
    "version": 3
   },
   "file_extension": ".py",
   "mimetype": "text/x-python",
   "name": "python",
   "nbconvert_exporter": "python",
   "pygments_lexer": "ipython3",
   "version": "3.8.3"
  }
 },
 "nbformat": 4,
 "nbformat_minor": 4
}
